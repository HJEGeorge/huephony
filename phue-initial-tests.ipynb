{
 "cells": [
  {
   "cell_type": "code",
   "execution_count": 43,
   "metadata": {
    "collapsed": true,
    "pycharm": {
     "is_executing": false
    }
   },
   "outputs": [],
   "source": [
    "import json\n",
    "from enum import Enum\n",
    "import time\n",
    "from itertools import cycle\n",
    "\n",
    "import requests\n",
    "from phue import Bridge"
   ]
  },
  {
   "cell_type": "code",
   "execution_count": 41,
   "outputs": [],
   "source": [
    "class Brightness(Enum):\n",
    "    OFF = 0\n",
    "    VERY_DIM = 50\n",
    "    DIM = 100\n",
    "    NORMAL = 150\n",
    "    BRIGHT = 200\n",
    "    VERY_BRIGHT = 250\n",
    "    \n",
    "class Hue(Enum):\n",
    "    RED = 0\n",
    "    GREEN = 25500\n",
    "    BLUE = 46920\n",
    "    "
   ],
   "metadata": {
    "collapsed": false,
    "pycharm": {
     "name": "#%%\n",
     "is_executing": false
    }
   }
  },
  {
   "cell_type": "code",
   "execution_count": 9,
   "outputs": [],
   "source": [
    "HUE_DISCOVER = 'http://discovery.meethue.com'\n",
    "\n",
    "response = requests.request('GET', HUE_DISCOVER)\n",
    "bridges = json.loads(response.content)\n",
    "bridge_ip = bridges[0]['internalipaddress']"
   ],
   "metadata": {
    "collapsed": false,
    "pycharm": {
     "name": "#%%\n",
     "is_executing": false
    }
   }
  },
  {
   "cell_type": "code",
   "execution_count": 12,
   "outputs": [],
   "source": [
    "bridge = Bridge(bridge_ip)\n",
    "bridge.connect()"
   ],
   "metadata": {
    "collapsed": false,
    "pycharm": {
     "name": "#%%\n",
     "is_executing": false
    }
   }
  },
  {
   "cell_type": "code",
   "execution_count": 21,
   "outputs": [],
   "source": [
    "lights = bridge.get_light_objects()\n",
    "light = lights[1]"
   ],
   "metadata": {
    "collapsed": false,
    "pycharm": {
     "name": "#%%\n",
     "is_executing": false
    }
   }
  },
  {
   "cell_type": "code",
   "execution_count": 53,
   "outputs": [],
   "source": [
    "light.transition_time = 0\n",
    "\n",
    "light.brightness = Brightness.NORMAL.value\n",
    "hues = cycle([hue.value for hue in Hue])\n",
    "light.brightness = 200\n",
    "\n",
    "for i in range(100):\n",
    "    # LETS PARTY PEOPLE\n",
    "    if i%2:\n",
    "        light.brightness = Brightness.DIM.value\n",
    "    else:\n",
    "        light.brightness = Brightness.NORMAL.value\n",
    "    light.hue = next(hues) \n"
   ],
   "metadata": {
    "collapsed": false,
    "pycharm": {
     "name": "#%%\n",
     "is_executing": false
    }
   }
  },
  {
   "cell_type": "code",
   "execution_count": 51,
   "outputs": [],
   "source": [
    "light.hue = Hue.RED.value\n"
   ],
   "metadata": {
    "collapsed": false,
    "pycharm": {
     "name": "#%%\n",
     "is_executing": false
    }
   }
  }
 ],
 "metadata": {
  "kernelspec": {
   "display_name": "Python 3",
   "language": "python",
   "name": "python3"
  },
  "language_info": {
   "codemirror_mode": {
    "name": "ipython",
    "version": 2
   },
   "file_extension": ".py",
   "mimetype": "text/x-python",
   "name": "python",
   "nbconvert_exporter": "python",
   "pygments_lexer": "ipython2",
   "version": "2.7.6"
  },
  "pycharm": {
   "stem_cell": {
    "cell_type": "raw",
    "source": [],
    "metadata": {
     "collapsed": false
    }
   }
  }
 },
 "nbformat": 4,
 "nbformat_minor": 0
}