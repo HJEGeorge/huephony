{
 "cells": [
  {
   "cell_type": "code",
   "execution_count": 1,
   "metadata": {
    "collapsed": true,
    "pycharm": {
     "is_executing": false
    }
   },
   "outputs": [
    {
     "name": "stderr",
     "text": [
      "/Users/henryhome/Projects/huephony/venv/lib/python3.8/site-packages/phue.py:694: SyntaxWarning: \"is not\" with a literal. Did you mean \"!=\"?\n",
      "  if ip is not '':\n"
     ],
     "output_type": "stream"
    }
   ],
   "source": [
    "import json\n",
    "from enum import Enum\n",
    "import time\n",
    "from itertools import cycle\n",
    "\n",
    "import requests\n",
    "from phue import Bridge"
   ]
  },
  {
   "cell_type": "code",
   "execution_count": 5,
   "outputs": [],
   "source": [
    "from datatypes.datatypes import Hue, Brightness, ColorTemp"
   ],
   "metadata": {
    "collapsed": false,
    "pycharm": {
     "name": "#%%\n",
     "is_executing": false
    }
   }
  },
  {
   "cell_type": "code",
   "execution_count": 6,
   "outputs": [],
   "source": [
    "HUE_DISCOVER = 'http://discovery.meethue.com'\n",
    "\n",
    "response = requests.request('GET', HUE_DISCOVER)\n",
    "bridges = json.loads(response.content)\n",
    "bridge_ip = bridges[0]['internalipaddress']"
   ],
   "metadata": {
    "collapsed": false,
    "pycharm": {
     "name": "#%%\n",
     "is_executing": false
    }
   }
  },
  {
   "cell_type": "code",
   "execution_count": 7,
   "outputs": [],
   "source": [
    "bridge = Bridge(bridge_ip)\n",
    "bridge.connect()"
   ],
   "metadata": {
    "collapsed": false,
    "pycharm": {
     "name": "#%%\n",
     "is_executing": false
    }
   }
  },
  {
   "cell_type": "code",
   "execution_count": 10,
   "outputs": [],
   "source": [
    "lights = bridge.get_light_objects()\n",
    "\n",
    "light_windowside = lights[0]\n",
    "light_kitchenside = lights[2]"
   ],
   "metadata": {
    "collapsed": false,
    "pycharm": {
     "name": "#%%\n",
     "is_executing": false
    }
   }
  },
  {
   "cell_type": "code",
   "execution_count": 23,
   "outputs": [
    {
     "name": "stdout",
     "text": [
      "[<Hue.RED: 0>, <Hue.GREEN: 25500>, <Hue.BLUE: 46920>]\n"
     ],
     "output_type": "stream"
    }
   ],
   "source": [
    "light_kitchenside.hue = Hue.RED.value\n",
    "\n",
    "print([hue for hue in Hue])\n"
   ],
   "metadata": {
    "collapsed": false,
    "pycharm": {
     "name": "#%%\n",
     "is_executing": false
    }
   }
  },
  {
   "cell_type": "code",
   "execution_count": null,
   "outputs": [],
   "source": [
    "\n"
   ],
   "metadata": {
    "collapsed": false,
    "pycharm": {
     "name": "#%%\n"
    }
   }
  }
 ],
 "metadata": {
  "kernelspec": {
   "display_name": "Python 3",
   "language": "python",
   "name": "python3"
  },
  "language_info": {
   "codemirror_mode": {
    "name": "ipython",
    "version": 2
   },
   "file_extension": ".py",
   "mimetype": "text/x-python",
   "name": "python",
   "nbconvert_exporter": "python",
   "pygments_lexer": "ipython2",
   "version": "2.7.6"
  },
  "pycharm": {
   "stem_cell": {
    "cell_type": "raw",
    "source": [],
    "metadata": {
     "collapsed": false
    }
   }
  }
 },
 "nbformat": 4,
 "nbformat_minor": 0
}